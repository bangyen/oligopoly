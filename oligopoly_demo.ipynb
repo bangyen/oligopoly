{
  "cells": [
    {
      "cell_type": "markdown",
      "id": "7fb27b941602401d91542211134fc71a",
      "metadata": {
        "id": "7fb27b941602401d91542211134fc71a"
      },
      "source": [
        "# Oligopoly Simulation Demo\n",
        "\n",
        "This notebook demonstrates the oligopoly simulation platform for market competition modeling.\n",
        "\n",
        "## What is Oligopoly?\n",
        "\n",
        "A comprehensive platform for simulating oligopoly market competition with:\n",
        "\n",
        "1. **Market Competition**: Cournot & Bertrand models with learning strategies\n",
        "2. **Policy Analysis**: Taxes, subsidies, price caps with event logging\n",
        "3. **Interactive Visualization**: Profit surface heatmaps and market dynamics\n",
        "4. **REST API**: FastAPI endpoints for simulation and analysis\n",
        "\n",
        "**Key Features:**\n",
        "- Multi-firm competition with Nash equilibrium computation\n",
        "- Policy intervention modeling and impact analysis\n",
        "- Learning strategies and collusion dynamics\n",
        "- Real-time dashboard and data export capabilities"
      ]
    },
    {
      "cell_type": "markdown",
      "id": "acae54e37e7d407bbb7b55eff062a284",
      "metadata": {
        "id": "acae54e37e7d407bbb7b55eff062a284"
      },
      "source": [
        "## Setup and Installation"
      ]
    },
    {
      "cell_type": "code",
      "execution_count": null,
      "id": "9a63283cbaf04dbcab1f6479b197f3a8",
      "metadata": {
        "id": "9a63283cbaf04dbcab1f6479b197f3a8"
      },
      "outputs": [],
      "source": [
        "! [ ! -d \"oligopoly\" ] && git clone https://github.com/bangyen/oligopoly.git\n",
        "! cd oligopoly && pip install -e .\n",
        "\n",
        "print(\"Setup complete!\")"
      ]
    },
    {
      "cell_type": "markdown",
      "id": "8dd0d8092fe74a7c96281538738b07e2",
      "metadata": {
        "id": "8dd0d8092fe74a7c96281538738b07e2"
      },
      "source": [
        "## Imports and Configuration"
      ]
    },
    {
      "cell_type": "code",
      "execution_count": null,
      "id": "400853a8",
      "metadata": {
        "id": "400853a8"
      },
      "outputs": [],
      "source": [
        "import os\n",
        "\n",
        "os.chdir('./oligopoly')\n",
        "print(f\"Current working directory: {os.getcwd()}\")"
      ]
    },
    {
      "cell_type": "code",
      "execution_count": null,
      "id": "72eea5119410473aa328ad9291626812",
      "metadata": {
        "id": "72eea5119410473aa328ad9291626812"
      },
      "outputs": [],
      "source": [
        "import logging\n",
        "import warnings\n",
        "\n",
        "import matplotlib.pyplot as plt\n",
        "import numpy as np\n",
        "import plotly.graph_objects as go\n",
        "\n",
        "# Import oligopoly simulation modules\n",
        "from src.sim.heatmap.cournot_heatmap import compute_cournot_heatmap\n",
        "from src.sim.strategies.nash_strategies import (\n",
        "    bertrand_nash_equilibrium,\n",
        "    cournot_nash_equilibrium,\n",
        ")\n",
        "\n",
        "# Suppress economic validation warnings for cleaner demo output\n",
        "logging.getLogger(\"src.sim.validation.economic_validation\").setLevel(logging.ERROR)\n",
        "logging.getLogger(\"src.sim.games.cournot\").setLevel(logging.ERROR)\n",
        "warnings.filterwarnings(\"ignore\", category=UserWarning)\n",
        "\n",
        "# Set random seeds for reproducibility\n",
        "np.random.seed(42)\n",
        "\n",
        "print(\"Imports complete!\")"
      ]
    },
    {
      "cell_type": "markdown",
      "id": "8edb47106e1a46a883d545849b8ab81b",
      "metadata": {
        "id": "8edb47106e1a46a883d545849b8ab81b"
      },
      "source": [
        "## Cournot vs Bertrand Competition"
      ]
    },
    {
      "cell_type": "code",
      "execution_count": null,
      "id": "10185d26023b46108eb7d9f57d49d2b3",
      "metadata": {
        "id": "10185d26023b46108eb7d9f57d49d2b3"
      },
      "outputs": [],
      "source": [
        "def quick_demo():\n",
        "    print(\"Oligopoly Simulation Demo - Cournot vs Bertrand\")\n",
        "    print(\"=\" * 50)\n",
        "\n",
        "    # Define market parameters\n",
        "    a, b = 100.0, 1.0  # P = 100 - Q\n",
        "    costs = [10.0, 15.0]  # Two firms with different costs\n",
        "\n",
        "    print(f\"Market: P = {a} - {b}Q\")\n",
        "    print(f\"Firms: Cost1={costs[0]}, Cost2={costs[1]}\")\n",
        "\n",
        "    # Calculate Nash equilibrium for Cournot competition\n",
        "    print(\"\\n--- Cournot Competition (Quantity) ---\")\n",
        "    cournot_quantities, cournot_price, cournot_profits = cournot_nash_equilibrium(\n",
        "        a, b, costs\n",
        "    )\n",
        "    cournot_total_quantity = sum(cournot_quantities)\n",
        "    cournot_cs = 0.5 * b * cournot_total_quantity**2  # Consumer surplus = 0.5 * b * Q^2\n",
        "\n",
        "    print(f\"Market Price: ${cournot_price:.2f}\")\n",
        "    print(f\"Total Quantity: {cournot_total_quantity:.2f}\")\n",
        "    print(f\"Firm Quantities: {[f'{q:.2f}' for q in cournot_quantities]}\")\n",
        "    print(f\"Firm Profits: {[f'{p:.2f}' for p in cournot_profits]}\")\n",
        "    print(f\"Consumer Surplus: ${cournot_cs:.2f}\")\n",
        "\n",
        "    # Calculate Nash equilibrium for Bertrand competition\n",
        "    print(\"\\n--- Bertrand Competition (Price) ---\")\n",
        "    bertrand_prices, bertrand_quantities, bertrand_profits, bertrand_price = (\n",
        "        bertrand_nash_equilibrium(a, b, costs)\n",
        "    )\n",
        "    bertrand_total_quantity = sum(bertrand_quantities)\n",
        "    bertrand_cs = 0.5 * b * bertrand_total_quantity**2\n",
        "\n",
        "    print(f\"Market Price: ${bertrand_price:.2f}\")\n",
        "    print(f\"Total Quantity: {bertrand_total_quantity:.2f}\")\n",
        "    print(f\"Firm Prices: {[f'{p:.2f}' for p in bertrand_prices]}\")\n",
        "    print(f\"Firm Quantities: {[f'{q:.2f}' for q in bertrand_quantities]}\")\n",
        "    print(f\"Firm Profits: {[f'{p:.2f}' for p in bertrand_profits]}\")\n",
        "    print(f\"Consumer Surplus: ${bertrand_cs:.2f}\")\n",
        "\n",
        "    # Compare results\n",
        "    print(\"\\n--- Comparison ---\")\n",
        "    print(f\"Price Difference: ${bertrand_price - cournot_price:.2f}\")\n",
        "    print(\n",
        "        f\"Quantity Difference: {bertrand_total_quantity - cournot_total_quantity:.2f}\"\n",
        "    )\n",
        "    print(f\"CS Difference: ${bertrand_cs - cournot_cs:.2f}\")\n",
        "\n",
        "    return (cournot_price, cournot_quantities, cournot_profits, cournot_cs), (\n",
        "        bertrand_price,\n",
        "        bertrand_quantities,\n",
        "        bertrand_profits,\n",
        "        bertrand_cs,\n",
        "    )\n",
        "\n",
        "\n",
        "# Run the demo\n",
        "cournot_result, bertrand_result = quick_demo()"
      ]
    },
    {
      "cell_type": "markdown",
      "id": "8763a12b2bbd4a93a75aff182afb95dc",
      "metadata": {
        "id": "8763a12b2bbd4a93a75aff182afb95dc"
      },
      "source": [
        "## Policy Intervention"
      ]
    },
    {
      "cell_type": "code",
      "execution_count": null,
      "id": "5fcebd2d",
      "metadata": {
        "id": "5fcebd2d"
      },
      "outputs": [],
      "source": [
        "# Policy intervention demo\n",
        "def policy_demo():\n",
        "    print(\"Policy Intervention Demo - Tax Impact\")\n",
        "    print(\"=\" * 40)\n",
        "\n",
        "    # Baseline market\n",
        "    a, b = 100.0, 1.0\n",
        "    baseline_costs = [10.0, 15.0]\n",
        "\n",
        "    # Run baseline Cournot\n",
        "    baseline_quantities, baseline_price, baseline_profits = cournot_nash_equilibrium(\n",
        "        a, b, baseline_costs\n",
        "    )\n",
        "    baseline_total_quantity = sum(baseline_quantities)\n",
        "    baseline_cs = 0.5 * b * baseline_total_quantity**2\n",
        "\n",
        "    print(f\"Baseline - Price: ${baseline_price:.2f}, CS: ${baseline_cs:.2f}\")\n",
        "\n",
        "    # Apply 20% tax (simulated by increasing costs)\n",
        "    taxed_costs = [12.0, 18.0]  # 20% cost increase\n",
        "    taxed_quantities, taxed_price, taxed_profits = cournot_nash_equilibrium(\n",
        "        a, b, taxed_costs\n",
        "    )\n",
        "    taxed_total_quantity = sum(taxed_quantities)\n",
        "    taxed_cs = 0.5 * b * taxed_total_quantity**2\n",
        "\n",
        "    print(f\"With Tax - Price: ${taxed_price:.2f}, CS: ${taxed_cs:.2f}\")\n",
        "\n",
        "    # Calculate impact\n",
        "    price_increase = taxed_price - baseline_price\n",
        "    cs_decrease = baseline_cs - taxed_cs\n",
        "    profit_change = sum(taxed_profits) - sum(baseline_profits)\n",
        "\n",
        "    print(\"\\nTax Impact:\")\n",
        "    print(f\"Price Increase: ${price_increase:.2f}\")\n",
        "    print(f\"Consumer Surplus Loss: ${cs_decrease:.2f}\")\n",
        "    print(f\"Profit Change: ${profit_change:.2f}\")\n",
        "    print(f\"Deadweight Loss: ${cs_decrease - profit_change:.2f}\")\n",
        "\n",
        "    return (baseline_price, baseline_quantities, baseline_profits, baseline_cs), (\n",
        "        taxed_price,\n",
        "        taxed_quantities,\n",
        "        taxed_profits,\n",
        "        taxed_cs,\n",
        "    )\n",
        "\n",
        "\n",
        "baseline, taxed = policy_demo()"
      ]
    },
    {
      "cell_type": "markdown",
      "id": "08c679f9",
      "metadata": {
        "id": "08c679f9"
      },
      "source": [
        "## Profit Surface Heatmap"
      ]
    },
    {
      "cell_type": "code",
      "execution_count": null,
      "id": "73a76823",
      "metadata": {
        "id": "73a76823"
      },
      "outputs": [],
      "source": [
        "# Generate profit surface heatmap\n",
        "def create_heatmap():\n",
        "    print(\"Generating Cournot Profit Surface Heatmap...\")\n",
        "\n",
        "    # Market parameters\n",
        "    a, b = 100.0, 1.0\n",
        "    costs = [10.0, 15.0]\n",
        "\n",
        "    # Create quantity grids\n",
        "    q1_range = np.linspace(0, 50, 20)\n",
        "    q2_range = np.linspace(0, 50, 20)\n",
        "\n",
        "    # Temporarily suppress all warnings during heatmap computation\n",
        "    with warnings.catch_warnings():\n",
        "        warnings.simplefilter(\"ignore\")\n",
        "        # Also suppress logging during computation\n",
        "        old_level = logging.getLogger(\"sim.games.cournot\").level\n",
        "        logging.getLogger(\"sim.games.cournot\").setLevel(logging.CRITICAL)\n",
        "\n",
        "        try:\n",
        "            # Compute profit surface for firm 1\n",
        "            profit_matrix, _, _ = compute_cournot_heatmap(\n",
        "                a, b, costs, 0, 1, q1_range, q2_range, []\n",
        "            )\n",
        "        finally:\n",
        "            # Restore logging level\n",
        "            logging.getLogger(\"sim.games.cournot\").setLevel(old_level)\n",
        "\n",
        "    # Create heatmap\n",
        "    fig = go.Figure(\n",
        "        data=go.Heatmap(\n",
        "            z=profit_matrix,\n",
        "            x=q2_range,\n",
        "            y=q1_range,\n",
        "            colorscale=\"Viridis\",\n",
        "            colorbar=dict(title=\"Firm 1 Profit\"),\n",
        "        )\n",
        "    )\n",
        "\n",
        "    fig.update_layout(\n",
        "        title=\"Cournot Competition: Firm 1 Profit Surface\",\n",
        "        xaxis_title=\"Firm 2 Quantity\",\n",
        "        yaxis_title=\"Firm 1 Quantity\",\n",
        "        width=600,\n",
        "        height=500,\n",
        "    )\n",
        "\n",
        "    # Try to display the figure, with fallback\n",
        "    try:\n",
        "        fig.show()\n",
        "    except Exception as e:\n",
        "        print(f\"Could not display interactive plot: {e}\")\n",
        "        print(\"Creating matplotlib version instead...\")\n",
        "\n",
        "        # Create matplotlib version\n",
        "        plt.figure(figsize=(8, 6))\n",
        "        plt.imshow(\n",
        "            profit_matrix,\n",
        "            extent=[q2_range[0], q2_range[-1], q1_range[0], q1_range[-1]],\n",
        "            origin=\"lower\",\n",
        "            cmap=\"viridis\",\n",
        "            aspect=\"auto\",\n",
        "        )\n",
        "        plt.colorbar(label=\"Firm 1 Profit\")\n",
        "        plt.xlabel(\"Firm 2 Quantity\")\n",
        "        plt.ylabel(\"Firm 1 Quantity\")\n",
        "        plt.title(\"Cournot Competition: Firm 1 Profit Surface\")\n",
        "        plt.show()\n",
        "\n",
        "        # Also save as HTML\n",
        "        fig.write_html(\"cournot_heatmap.html\")\n",
        "        print(\"Heatmap also saved as 'cournot_heatmap.html'\")\n",
        "\n",
        "    # Find Nash equilibrium point\n",
        "    nash_q1 = (a - 2 * costs[0] + costs[1]) / (3 * b)\n",
        "    nash_q2 = (a - 2 * costs[1] + costs[0]) / (3 * b)\n",
        "\n",
        "    print(f\"Nash Equilibrium: Firm 1 = {nash_q1:.2f}, Firm 2 = {nash_q2:.2f}\")\n",
        "\n",
        "    # Print some key profit values\n",
        "    print(f\"Max profit in grid: ${np.max(profit_matrix):.2f}\")\n",
        "    print(f\"Min profit in grid: ${np.min(profit_matrix):.2f}\")\n",
        "\n",
        "    return fig\n",
        "\n",
        "\n",
        "heatmap_fig = create_heatmap()"
      ]
    },
    {
      "cell_type": "markdown",
      "id": "837ac70e",
      "metadata": {
        "id": "837ac70e"
      },
      "source": [
        "## Key Takeaways\n",
        "\n",
        "This demo shows the oligopoly simulation platform capabilities:\n",
        "\n",
        "1. **Market Competition**: Compare Cournot vs Bertrand models with different outcomes\n",
        "2. **Policy Analysis**: Quantify the impact of taxes on prices and consumer welfare  \n",
        "3. **Visualization**: Generate profit surface heatmaps to understand strategic interactions\n",
        "4. **Economic Insights**: Analyze Nash equilibria, consumer surplus, and market dynamics\n",
        "\n",
        "### Next Steps\n",
        "\n",
        "- Run the interactive dashboard: `python dashboard/main.py` then visit `http://localhost:5000`\n",
        "- Try the API: `uvicorn src.main:app --reload` then visit `/docs`\n",
        "- Explore learning strategies: `python scripts/strategy_demo.py`\n",
        "- Run batch experiments: `python experiments/cli.py experiments/sample_config.json`\n",
        "\n",
        "For more information, visit the [GitHub repository](https://github.com/bangyen/oligopoly).\n"
      ]
    }
  ],
  "metadata": {
    "colab": {
      "provenance": []
    },
    "kernelspec": {
      "display_name": "venv",
      "language": "python",
      "name": "python3"
    },
    "language_info": {
      "codemirror_mode": {
        "name": "ipython",
        "version": 3
      },
      "file_extension": ".py",
      "mimetype": "text/x-python",
      "name": "python",
      "nbconvert_exporter": "python",
      "pygments_lexer": "ipython3",
      "version": "3.12.9"
    }
  },
  "nbformat": 4,
  "nbformat_minor": 5
}
